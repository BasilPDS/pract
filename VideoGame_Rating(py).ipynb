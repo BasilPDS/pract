{
 "cells": [
  {
   "cell_type": "markdown",
   "metadata": {},
   "source": [
    "Here I will conduct the first small independent analysis of a file of the \"csv\" type,\n",
    "using the pandas library"
   ]
  },
  {
   "cell_type": "code",
   "execution_count": 5,
   "metadata": {},
   "outputs": [],
   "source": [
    "import pandas as pd # import library \"pandas\""
   ]
  },
  {
   "cell_type": "code",
   "execution_count": 16,
   "metadata": {},
   "outputs": [
    {
     "data": {
      "text/html": [
       "<div>\n",
       "<style scoped>\n",
       "    .dataframe tbody tr th:only-of-type {\n",
       "        vertical-align: middle;\n",
       "    }\n",
       "\n",
       "    .dataframe tbody tr th {\n",
       "        vertical-align: top;\n",
       "    }\n",
       "\n",
       "    .dataframe thead th {\n",
       "        text-align: right;\n",
       "    }\n",
       "</style>\n",
       "<table border=\"1\" class=\"dataframe\">\n",
       "  <thead>\n",
       "    <tr style=\"text-align: right;\">\n",
       "      <th></th>\n",
       "      <th>title</th>\n",
       "      <th>console</th>\n",
       "      <th>alcohol_reference</th>\n",
       "      <th>animated_blood</th>\n",
       "      <th>blood</th>\n",
       "      <th>blood_and_gore</th>\n",
       "      <th>cartoon_violence</th>\n",
       "      <th>crude_humor</th>\n",
       "      <th>drug_reference</th>\n",
       "      <th>fantasy_violence</th>\n",
       "      <th>...</th>\n",
       "      <th>sexual_content</th>\n",
       "      <th>sexual_themes</th>\n",
       "      <th>simulated_gambling</th>\n",
       "      <th>strong_janguage</th>\n",
       "      <th>strong_sexual_content</th>\n",
       "      <th>suggestive_themes</th>\n",
       "      <th>use_of_alcohol</th>\n",
       "      <th>use_of_drugs_and_alcohol</th>\n",
       "      <th>violence</th>\n",
       "      <th>esrb_rating</th>\n",
       "    </tr>\n",
       "  </thead>\n",
       "  <tbody>\n",
       "    <tr>\n",
       "      <th>0</th>\n",
       "      <td>Monster Jam Steel Titans 2</td>\n",
       "      <td>1</td>\n",
       "      <td>0</td>\n",
       "      <td>0</td>\n",
       "      <td>0</td>\n",
       "      <td>0</td>\n",
       "      <td>0</td>\n",
       "      <td>0</td>\n",
       "      <td>0</td>\n",
       "      <td>0</td>\n",
       "      <td>...</td>\n",
       "      <td>0</td>\n",
       "      <td>0</td>\n",
       "      <td>0</td>\n",
       "      <td>0</td>\n",
       "      <td>0</td>\n",
       "      <td>0</td>\n",
       "      <td>0</td>\n",
       "      <td>0</td>\n",
       "      <td>0</td>\n",
       "      <td>E</td>\n",
       "    </tr>\n",
       "    <tr>\n",
       "      <th>1</th>\n",
       "      <td>Subnautica: Below Zero</td>\n",
       "      <td>1</td>\n",
       "      <td>0</td>\n",
       "      <td>1</td>\n",
       "      <td>0</td>\n",
       "      <td>0</td>\n",
       "      <td>0</td>\n",
       "      <td>0</td>\n",
       "      <td>0</td>\n",
       "      <td>0</td>\n",
       "      <td>...</td>\n",
       "      <td>0</td>\n",
       "      <td>0</td>\n",
       "      <td>0</td>\n",
       "      <td>0</td>\n",
       "      <td>0</td>\n",
       "      <td>0</td>\n",
       "      <td>0</td>\n",
       "      <td>0</td>\n",
       "      <td>0</td>\n",
       "      <td>ET</td>\n",
       "    </tr>\n",
       "    <tr>\n",
       "      <th>2</th>\n",
       "      <td>NIER REPLICANT VER.1.22474487139…</td>\n",
       "      <td>1</td>\n",
       "      <td>0</td>\n",
       "      <td>0</td>\n",
       "      <td>1</td>\n",
       "      <td>0</td>\n",
       "      <td>0</td>\n",
       "      <td>0</td>\n",
       "      <td>0</td>\n",
       "      <td>0</td>\n",
       "      <td>...</td>\n",
       "      <td>0</td>\n",
       "      <td>0</td>\n",
       "      <td>0</td>\n",
       "      <td>1</td>\n",
       "      <td>0</td>\n",
       "      <td>1</td>\n",
       "      <td>0</td>\n",
       "      <td>0</td>\n",
       "      <td>0</td>\n",
       "      <td>M</td>\n",
       "    </tr>\n",
       "    <tr>\n",
       "      <th>3</th>\n",
       "      <td>Jamestown+</td>\n",
       "      <td>0</td>\n",
       "      <td>0</td>\n",
       "      <td>0</td>\n",
       "      <td>0</td>\n",
       "      <td>0</td>\n",
       "      <td>0</td>\n",
       "      <td>0</td>\n",
       "      <td>0</td>\n",
       "      <td>1</td>\n",
       "      <td>...</td>\n",
       "      <td>0</td>\n",
       "      <td>0</td>\n",
       "      <td>0</td>\n",
       "      <td>0</td>\n",
       "      <td>0</td>\n",
       "      <td>0</td>\n",
       "      <td>0</td>\n",
       "      <td>0</td>\n",
       "      <td>0</td>\n",
       "      <td>ET</td>\n",
       "    </tr>\n",
       "    <tr>\n",
       "      <th>4</th>\n",
       "      <td>Neptunia Virtual Stars</td>\n",
       "      <td>0</td>\n",
       "      <td>0</td>\n",
       "      <td>0</td>\n",
       "      <td>0</td>\n",
       "      <td>0</td>\n",
       "      <td>0</td>\n",
       "      <td>0</td>\n",
       "      <td>0</td>\n",
       "      <td>1</td>\n",
       "      <td>...</td>\n",
       "      <td>0</td>\n",
       "      <td>0</td>\n",
       "      <td>0</td>\n",
       "      <td>0</td>\n",
       "      <td>0</td>\n",
       "      <td>1</td>\n",
       "      <td>0</td>\n",
       "      <td>0</td>\n",
       "      <td>0</td>\n",
       "      <td>T</td>\n",
       "    </tr>\n",
       "  </tbody>\n",
       "</table>\n",
       "<p>5 rows × 34 columns</p>\n",
       "</div>"
      ],
      "text/plain": [
       "                               title  console  alcohol_reference  \\\n",
       "0         Monster Jam Steel Titans 2        1                  0   \n",
       "1             Subnautica: Below Zero        1                  0   \n",
       "2  NIER REPLICANT VER.1.22474487139…        1                  0   \n",
       "3                         Jamestown+        0                  0   \n",
       "4             Neptunia Virtual Stars        0                  0   \n",
       "\n",
       "   animated_blood  blood  blood_and_gore  cartoon_violence  crude_humor  \\\n",
       "0               0      0               0                 0            0   \n",
       "1               1      0               0                 0            0   \n",
       "2               0      1               0                 0            0   \n",
       "3               0      0               0                 0            0   \n",
       "4               0      0               0                 0            0   \n",
       "\n",
       "   drug_reference  fantasy_violence  ...  sexual_content  sexual_themes  \\\n",
       "0               0                 0  ...               0              0   \n",
       "1               0                 0  ...               0              0   \n",
       "2               0                 0  ...               0              0   \n",
       "3               0                 1  ...               0              0   \n",
       "4               0                 1  ...               0              0   \n",
       "\n",
       "   simulated_gambling  strong_janguage  strong_sexual_content  \\\n",
       "0                   0                0                      0   \n",
       "1                   0                0                      0   \n",
       "2                   0                1                      0   \n",
       "3                   0                0                      0   \n",
       "4                   0                0                      0   \n",
       "\n",
       "   suggestive_themes  use_of_alcohol  use_of_drugs_and_alcohol  violence  \\\n",
       "0                  0               0                         0         0   \n",
       "1                  0               0                         0         0   \n",
       "2                  1               0                         0         0   \n",
       "3                  0               0                         0         0   \n",
       "4                  1               0                         0         0   \n",
       "\n",
       "   esrb_rating  \n",
       "0            E  \n",
       "1           ET  \n",
       "2            M  \n",
       "3           ET  \n",
       "4            T  \n",
       "\n",
       "[5 rows x 34 columns]"
      ]
     },
     "execution_count": 16,
     "metadata": {},
     "output_type": "execute_result"
    }
   ],
   "source": [
    "big_df = pd.read_csv(\"D:\\\\DS_Global\\\\VidoGame_Rating_ESRB\\\\Video_games_esrb_rating.csv\")\n",
    "\n",
    "big_df.head()"
   ]
  },
  {
   "cell_type": "code",
   "execution_count": 9,
   "metadata": {},
   "outputs": [
    {
     "name": "stdout",
     "output_type": "stream",
     "text": [
      "<class 'pandas.core.frame.DataFrame'>\n",
      "RangeIndex: 1895 entries, 0 to 1894\n",
      "Data columns (total 34 columns):\n",
      " #   Column                    Non-Null Count  Dtype \n",
      "---  ------                    --------------  ----- \n",
      " 0   title                     1895 non-null   object\n",
      " 1   console                   1895 non-null   int64 \n",
      " 2   alcohol_reference         1895 non-null   int64 \n",
      " 3   animated_blood            1895 non-null   int64 \n",
      " 4   blood                     1895 non-null   int64 \n",
      " 5   blood_and_gore            1895 non-null   int64 \n",
      " 6   cartoon_violence          1895 non-null   int64 \n",
      " 7   crude_humor               1895 non-null   int64 \n",
      " 8   drug_reference            1895 non-null   int64 \n",
      " 9   fantasy_violence          1895 non-null   int64 \n",
      " 10  intense_violence          1895 non-null   int64 \n",
      " 11  language                  1895 non-null   int64 \n",
      " 12  lyrics                    1895 non-null   int64 \n",
      " 13  mature_humor              1895 non-null   int64 \n",
      " 14  mild_blood                1895 non-null   int64 \n",
      " 15  mild_cartoon_violence     1895 non-null   int64 \n",
      " 16  mild_fantasy_violence     1895 non-null   int64 \n",
      " 17  mild_language             1895 non-null   int64 \n",
      " 18  mild_lyrics               1895 non-null   int64 \n",
      " 19  mild_suggestive_themes    1895 non-null   int64 \n",
      " 20  mild_violence             1895 non-null   int64 \n",
      " 21  no_descriptors            1895 non-null   int64 \n",
      " 22  nudity                    1895 non-null   int64 \n",
      " 23  partial_nudity            1895 non-null   int64 \n",
      " 24  sexual_content            1895 non-null   int64 \n",
      " 25  sexual_themes             1895 non-null   int64 \n",
      " 26  simulated_gambling        1895 non-null   int64 \n",
      " 27  strong_janguage           1895 non-null   int64 \n",
      " 28  strong_sexual_content     1895 non-null   int64 \n",
      " 29  suggestive_themes         1895 non-null   int64 \n",
      " 30  use_of_alcohol            1895 non-null   int64 \n",
      " 31  use_of_drugs_and_alcohol  1895 non-null   int64 \n",
      " 32  violence                  1895 non-null   int64 \n",
      " 33  esrb_rating               1895 non-null   object\n",
      "dtypes: int64(32), object(2)\n",
      "memory usage: 503.5+ KB\n"
     ]
    }
   ],
   "source": [
    "big_df.info()"
   ]
  },
  {
   "cell_type": "code",
   "execution_count": 12,
   "metadata": {},
   "outputs": [
    {
     "data": {
      "text/plain": [
       "4"
      ]
     },
     "execution_count": 12,
     "metadata": {},
     "output_type": "execute_result"
    }
   ],
   "source": [
    "''' Сначала проведем легкий анализ\n",
    "Есть колонка \"ersb_rating\" означающая финальный рейтинг,\n",
    "который печатается на игре. Нужно узнать, сколько уникальных \n",
    "рейтингов содержит датасет.\n",
    "\n",
    "First, let's do a light analysis\n",
    "There is a column \"ersb_rating\" meaning the final rating,\n",
    "which is printed on the game. I need to find out how many unique\n",
    "ratings the dataset contains.\n",
    "'''\n",
    "unum_of_esrb = big_df['esrb_rating'].nunique()\n",
    "unum_of_esrb"
   ]
  },
  {
   "cell_type": "markdown",
   "metadata": {},
   "source": [
    "В этом дата сете содержится 4 уникальный рейтинга"
   ]
  },
  {
   "cell_type": "code",
   "execution_count": 14,
   "metadata": {},
   "outputs": [
    {
     "name": "stdout",
     "output_type": "stream",
     "text": [
      "['E' 'ET' 'M' 'T']\n"
     ]
    }
   ],
   "source": [
    "''' Посмотрим, что это за рейтинги\n",
    "Let's see what these ratings are\n",
    "'''\n",
    "unum_of_esrb = big_df['esrb_rating'].unique()\n",
    "print (unum_of_esrb)"
   ]
  },
  {
   "cell_type": "markdown",
   "metadata": {},
   "source": [
    "E - \"everyone\" игра для всех\n",
    "ET - «Для всех от 10 лет и старше»\n",
    "T - \"Для подростков от 13 лет и старше\"\n",
    "M - «Mature» игра для взрослых\n"
   ]
  },
  {
   "cell_type": "code",
   "execution_count": 18,
   "metadata": {},
   "outputs": [
    {
     "data": {
      "text/plain": [
       "T     689\n",
       "E     416\n",
       "ET    403\n",
       "M     387\n",
       "Name: esrb_rating, dtype: int64"
      ]
     },
     "execution_count": 18,
     "metadata": {},
     "output_type": "execute_result"
    }
   ],
   "source": [
    "''' Посчитаем скольким играм выставлен каждый тип рейтинга\n",
    "Let's count how many games each rating type is exposed to'''\n",
    "how_mach_game = big_df['esrb_rating'].value_counts()\n",
    "how_mach_game"
   ]
  },
  {
   "cell_type": "code",
   "execution_count": 39,
   "metadata": {},
   "outputs": [
    {
     "name": "stdout",
     "output_type": "stream",
     "text": [
      "T 36.36 %\n",
      "E 21.95 %\n",
      "ET 21.27 %\n",
      "M 20.42 %\n"
     ]
    }
   ],
   "source": [
    "''' Подсчитаем процент каждого рейтинга от общего числа игр\n",
    "Calculate the percentage of each rating from the total number of games\n",
    "'''\n",
    "how_mach_game = big_df['esrb_rating'].value_counts(normalize=True)\n",
    "i = 0\n",
    "while i< len(how_mach_game.index):\n",
    "    print (how_mach_game.index[i], ('%.2f' % (how_mach_game[i]* 100)),'%')\n",
    "    i+=1\n"
   ]
  },
  {
   "cell_type": "code",
   "execution_count": null,
   "metadata": {},
   "outputs": [],
   "source": []
  }
 ],
 "metadata": {
  "kernelspec": {
   "display_name": "Python 3",
   "language": "python",
   "name": "python3"
  },
  "language_info": {
   "codemirror_mode": {
    "name": "ipython",
    "version": 3
   },
   "file_extension": ".py",
   "mimetype": "text/x-python",
   "name": "python",
   "nbconvert_exporter": "python",
   "pygments_lexer": "ipython3",
   "version": "3.8.3"
  }
 },
 "nbformat": 4,
 "nbformat_minor": 4
}
